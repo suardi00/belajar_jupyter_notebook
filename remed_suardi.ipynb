{
 "cells": [
  {
   "cell_type": "code",
   "execution_count": 1,
   "metadata": {},
   "outputs": [],
   "source": [
    "import numpy as np\n",
    "import matplotlib.pyplot as plt\n",
    "import pandas as pd"
   ]
  },
  {
   "cell_type": "code",
   "execution_count": 4,
   "metadata": {},
   "outputs": [
    {
     "data": {
      "text/html": [
       "<div>\n",
       "<style scoped>\n",
       "    .dataframe tbody tr th:only-of-type {\n",
       "        vertical-align: middle;\n",
       "    }\n",
       "\n",
       "    .dataframe tbody tr th {\n",
       "        vertical-align: top;\n",
       "    }\n",
       "\n",
       "    .dataframe thead th {\n",
       "        text-align: right;\n",
       "    }\n",
       "</style>\n",
       "<table border=\"1\" class=\"dataframe\">\n",
       "  <thead>\n",
       "    <tr style=\"text-align: right;\">\n",
       "      <th></th>\n",
       "      <th>Insulation</th>\n",
       "      <th>Temperature</th>\n",
       "      <th>Heating_Oil</th>\n",
       "      <th>Num_Occupants</th>\n",
       "      <th>Avg_Age</th>\n",
       "      <th>Home_Size</th>\n",
       "    </tr>\n",
       "  </thead>\n",
       "  <tbody>\n",
       "    <tr>\n",
       "      <th>1121</th>\n",
       "      <td>3</td>\n",
       "      <td>86</td>\n",
       "      <td>136</td>\n",
       "      <td>4</td>\n",
       "      <td>23.9</td>\n",
       "      <td>2</td>\n",
       "    </tr>\n",
       "    <tr>\n",
       "      <th>132</th>\n",
       "      <td>8</td>\n",
       "      <td>56</td>\n",
       "      <td>300</td>\n",
       "      <td>2</td>\n",
       "      <td>66.7</td>\n",
       "      <td>8</td>\n",
       "    </tr>\n",
       "    <tr>\n",
       "      <th>966</th>\n",
       "      <td>3</td>\n",
       "      <td>77</td>\n",
       "      <td>132</td>\n",
       "      <td>2</td>\n",
       "      <td>21.3</td>\n",
       "      <td>4</td>\n",
       "    </tr>\n",
       "    <tr>\n",
       "      <th>1192</th>\n",
       "      <td>10</td>\n",
       "      <td>58</td>\n",
       "      <td>273</td>\n",
       "      <td>1</td>\n",
       "      <td>59.4</td>\n",
       "      <td>5</td>\n",
       "    </tr>\n",
       "    <tr>\n",
       "      <th>957</th>\n",
       "      <td>5</td>\n",
       "      <td>89</td>\n",
       "      <td>185</td>\n",
       "      <td>5</td>\n",
       "      <td>44.4</td>\n",
       "      <td>5</td>\n",
       "    </tr>\n",
       "  </tbody>\n",
       "</table>\n",
       "</div>"
      ],
      "text/plain": [
       "      Insulation  Temperature  Heating_Oil  Num_Occupants  Avg_Age  Home_Size\n",
       "1121           3           86          136              4     23.9          2\n",
       "132            8           56          300              2     66.7          8\n",
       "966            3           77          132              2     21.3          4\n",
       "1192          10           58          273              1     59.4          5\n",
       "957            5           89          185              5     44.4          5"
      ]
     },
     "execution_count": 4,
     "metadata": {},
     "output_type": "execute_result"
    }
   ],
   "source": [
    "dataset = pd.read_csv('HeatingOil-Training.csv')\n",
    "dataset.sample(5)"
   ]
  },
  {
   "cell_type": "code",
   "execution_count": 5,
   "metadata": {},
   "outputs": [],
   "source": [
    "X = dataset.iloc[:,[2,3]].values\n",
    "y = dataset.iloc[:,[-1]].values"
   ]
  },
  {
   "cell_type": "code",
   "execution_count": 6,
   "metadata": {},
   "outputs": [],
   "source": [
    "# Splitting the dataset into the Training set and Test set\n",
    "from sklearn.model_selection import train_test_split\n",
    "X_train, X_test, y_train, y_test = train_test_split(X, y, test_size=0.25, random_state=0)"
   ]
  },
  {
   "cell_type": "code",
   "execution_count": 7,
   "metadata": {},
   "outputs": [
    {
     "data": {
      "text/plain": [
       "(913, 2)"
      ]
     },
     "execution_count": 7,
     "metadata": {},
     "output_type": "execute_result"
    }
   ],
   "source": [
    "X_train.shape"
   ]
  },
  {
   "cell_type": "code",
   "execution_count": 8,
   "metadata": {},
   "outputs": [
    {
     "data": {
      "text/plain": [
       "(913, 1)"
      ]
     },
     "execution_count": 8,
     "metadata": {},
     "output_type": "execute_result"
    }
   ],
   "source": [
    "y_train.shape"
   ]
  },
  {
   "cell_type": "code",
   "execution_count": 9,
   "metadata": {},
   "outputs": [
    {
     "data": {
      "text/plain": [
       "(305, 2)"
      ]
     },
     "execution_count": 9,
     "metadata": {},
     "output_type": "execute_result"
    }
   ],
   "source": [
    "X_test.shape"
   ]
  },
  {
   "cell_type": "code",
   "execution_count": 10,
   "metadata": {},
   "outputs": [
    {
     "data": {
      "text/plain": [
       "(305, 1)"
      ]
     },
     "execution_count": 10,
     "metadata": {},
     "output_type": "execute_result"
    }
   ],
   "source": [
    "y_test.shape"
   ]
  },
  {
   "cell_type": "code",
   "execution_count": 12,
   "metadata": {},
   "outputs": [],
   "source": [
    "# Feature Scaling\n",
    "from sklearn.preprocessing import StandardScaler\n",
    "sc = StandardScaler()\n",
    "X_train = sc.fit_transform(X_train)\n",
    "X_test = sc.fit_transform(X_test)"
   ]
  },
  {
   "cell_type": "code",
   "execution_count": 13,
   "metadata": {},
   "outputs": [
    {
     "name": "stderr",
     "output_type": "stream",
     "text": [
      "C:\\Users\\ASUS\\anaconda3\\lib\\site-packages\\sklearn\\utils\\validation.py:72: DataConversionWarning: A column-vector y was passed when a 1d array was expected. Please change the shape of y to (n_samples, ), for example using ravel().\n",
      "  return f(**kwargs)\n"
     ]
    },
    {
     "data": {
      "text/plain": [
       "LogisticRegression(random_state=0)"
      ]
     },
     "execution_count": 13,
     "metadata": {},
     "output_type": "execute_result"
    }
   ],
   "source": [
    "# Fitting Logistic Regression to the Training set\n",
    "from sklearn.linear_model import LogisticRegression\n",
    "classifier = LogisticRegression(random_state = 0)\n",
    "classifier.fit(X_train, y_train)"
   ]
  },
  {
   "cell_type": "code",
   "execution_count": 14,
   "metadata": {},
   "outputs": [
    {
     "data": {
      "text/plain": [
       "array([3, 3, 3, 7, 3, 2, 2, 3, 7, 3, 7, 7, 2, 3, 7, 7, 7, 3, 4, 3, 7, 6,\n",
       "       4, 7, 7, 7, 1, 6, 2, 4, 3, 7, 7, 3, 7, 3, 3, 2, 7, 3, 7, 3, 3, 7,\n",
       "       7, 2, 7, 3, 4, 4, 7, 7, 7, 7, 4, 1, 3, 3, 7, 3, 3, 7, 4, 3, 4, 7,\n",
       "       7, 7, 2, 7, 7, 7, 4, 7, 7, 7, 3, 7, 3, 7, 7, 4, 3, 3, 7, 7, 3, 4,\n",
       "       7, 7, 3, 3, 7, 7, 7, 7, 7, 7, 4, 7, 7, 3, 3, 7, 3, 4, 4, 3, 7, 3,\n",
       "       7, 7, 3, 7, 2, 7, 3, 7, 7, 7, 3, 7, 7, 7, 7, 7, 3, 1, 7, 2, 3, 3,\n",
       "       3, 3, 3, 7, 7, 3, 7, 6, 2, 7, 7, 7, 7, 1, 7, 7, 7, 7, 7, 4, 7, 1,\n",
       "       7, 4, 7, 7, 7, 4, 7, 3, 7, 3, 7, 7, 7, 2, 7, 4, 6, 7, 4, 3, 7, 7,\n",
       "       7, 7, 7, 4, 2, 7, 7, 7, 4, 4, 7, 7, 3, 7, 4, 3, 7, 3, 7, 1, 7, 3,\n",
       "       7, 4, 4, 7, 3, 3, 7, 3, 7, 7, 3, 3, 3, 4, 7, 1, 2, 3, 3, 7, 7, 7,\n",
       "       7, 4, 2, 4, 7, 2, 3, 2, 3, 2, 7, 3, 7, 3, 3, 3, 7, 4, 4, 3, 7, 4,\n",
       "       7, 4, 7, 4, 4, 7, 7, 2, 7, 4, 3, 7, 7, 7, 7, 7, 7, 4, 3, 3, 2, 7,\n",
       "       7, 7, 3, 7, 7, 3, 4, 7, 4, 7, 7, 2, 7, 7, 2, 2, 3, 7, 7, 4, 3, 7,\n",
       "       7, 7, 4, 7, 7, 4, 7, 7, 3, 7, 7, 3, 7, 3, 2, 7, 3, 7, 7],\n",
       "      dtype=int64)"
      ]
     },
     "execution_count": 14,
     "metadata": {},
     "output_type": "execute_result"
    }
   ],
   "source": [
    "# Predicting the Test set results\n",
    "y_pred = classifier.predict(X_test)\n",
    "y_pred"
   ]
  },
  {
   "cell_type": "code",
   "execution_count": 15,
   "metadata": {},
   "outputs": [
    {
     "data": {
      "text/plain": [
       "array([8, 4, 4, 8, 1, 1, 2, 3, 7, 8, 6, 7, 4, 4, 5, 3, 3, 2, 8, 2, 1, 5,\n",
       "       2, 4, 3, 1, 1, 5, 3, 5, 8, 7, 1, 2, 5, 1, 1, 8, 6, 4, 7, 6, 1, 7,\n",
       "       2, 2, 8, 1, 6, 8, 3, 6, 7, 8, 8, 5, 4, 1, 8, 4, 4, 4, 3, 4, 6, 8,\n",
       "       4, 5, 7, 6, 3, 8, 8, 1, 7, 7, 3, 1, 2, 6, 2, 3, 2, 2, 6, 4, 4, 4,\n",
       "       3, 8, 5, 2, 8, 8, 3, 3, 1, 5, 3, 1, 8, 4, 3, 6, 1, 5, 5, 6, 5, 4,\n",
       "       4, 8, 1, 1, 8, 6, 2, 5, 5, 3, 7, 1, 5, 3, 6, 2, 1, 3, 8, 1, 8, 2,\n",
       "       7, 5, 3, 1, 6, 3, 5, 8, 4, 5, 7, 4, 8, 8, 5, 5, 7, 4, 1, 5, 8, 4,\n",
       "       7, 4, 6, 8, 1, 1, 4, 2, 6, 4, 3, 2, 2, 8, 6, 8, 8, 6, 4, 3, 6, 8,\n",
       "       6, 6, 5, 7, 4, 7, 2, 7, 6, 6, 6, 8, 1, 3, 7, 3, 1, 4, 2, 2, 7, 5,\n",
       "       5, 2, 4, 7, 1, 2, 2, 4, 7, 3, 7, 8, 2, 2, 7, 6, 2, 4, 4, 8, 4, 2,\n",
       "       7, 7, 3, 8, 8, 8, 2, 2, 1, 7, 8, 3, 8, 2, 4, 1, 6, 6, 3, 4, 6, 4,\n",
       "       2, 8, 1, 8, 2, 8, 8, 3, 7, 7, 6, 8, 2, 1, 1, 5, 4, 4, 3, 1, 7, 6,\n",
       "       6, 4, 3, 8, 1, 1, 4, 4, 6, 8, 1, 1, 6, 7, 2, 1, 3, 6, 8, 8, 1, 6,\n",
       "       7, 8, 5, 4, 8, 5, 4, 1, 6, 7, 8, 1, 5, 7, 1, 7, 5, 3, 8],\n",
       "      dtype=int64)"
      ]
     },
     "execution_count": 15,
     "metadata": {},
     "output_type": "execute_result"
    }
   ],
   "source": [
    "y_actual = y_test.flatten()\n",
    "y_actual"
   ]
  },
  {
   "cell_type": "code",
   "execution_count": 16,
   "metadata": {},
   "outputs": [
    {
     "name": "stdout",
     "output_type": "stream",
     "text": [
      "Hasil aktual: 8 hasil prediksi: 3\n",
      "Hasil aktual: 4 hasil prediksi: 3\n",
      "Hasil aktual: 4 hasil prediksi: 3\n",
      "Hasil aktual: 8 hasil prediksi: 7\n",
      "Hasil aktual: 1 hasil prediksi: 3\n",
      "Hasil aktual: 1 hasil prediksi: 2\n",
      "Hasil aktual: 2 hasil prediksi: 2\n",
      "Hasil aktual: 3 hasil prediksi: 3\n",
      "Hasil aktual: 7 hasil prediksi: 7\n",
      "Hasil aktual: 8 hasil prediksi: 3\n",
      "Hasil aktual: 6 hasil prediksi: 7\n",
      "Hasil aktual: 7 hasil prediksi: 7\n",
      "Hasil aktual: 4 hasil prediksi: 2\n",
      "Hasil aktual: 4 hasil prediksi: 3\n",
      "Hasil aktual: 5 hasil prediksi: 7\n",
      "Hasil aktual: 3 hasil prediksi: 7\n",
      "Hasil aktual: 3 hasil prediksi: 7\n",
      "Hasil aktual: 2 hasil prediksi: 3\n",
      "Hasil aktual: 8 hasil prediksi: 4\n",
      "Hasil aktual: 2 hasil prediksi: 3\n",
      "Hasil aktual: 1 hasil prediksi: 7\n",
      "Hasil aktual: 5 hasil prediksi: 6\n",
      "Hasil aktual: 2 hasil prediksi: 4\n",
      "Hasil aktual: 4 hasil prediksi: 7\n",
      "Hasil aktual: 3 hasil prediksi: 7\n",
      "Hasil aktual: 1 hasil prediksi: 7\n",
      "Hasil aktual: 1 hasil prediksi: 1\n",
      "Hasil aktual: 5 hasil prediksi: 6\n",
      "Hasil aktual: 3 hasil prediksi: 2\n",
      "Hasil aktual: 5 hasil prediksi: 4\n",
      "Hasil aktual: 8 hasil prediksi: 3\n",
      "Hasil aktual: 7 hasil prediksi: 7\n",
      "Hasil aktual: 1 hasil prediksi: 7\n",
      "Hasil aktual: 2 hasil prediksi: 3\n",
      "Hasil aktual: 5 hasil prediksi: 7\n",
      "Hasil aktual: 1 hasil prediksi: 3\n",
      "Hasil aktual: 1 hasil prediksi: 3\n",
      "Hasil aktual: 8 hasil prediksi: 2\n",
      "Hasil aktual: 6 hasil prediksi: 7\n",
      "Hasil aktual: 4 hasil prediksi: 3\n",
      "Hasil aktual: 7 hasil prediksi: 7\n",
      "Hasil aktual: 6 hasil prediksi: 3\n",
      "Hasil aktual: 1 hasil prediksi: 3\n",
      "Hasil aktual: 7 hasil prediksi: 7\n",
      "Hasil aktual: 2 hasil prediksi: 7\n",
      "Hasil aktual: 2 hasil prediksi: 2\n",
      "Hasil aktual: 8 hasil prediksi: 7\n",
      "Hasil aktual: 1 hasil prediksi: 3\n",
      "Hasil aktual: 6 hasil prediksi: 4\n",
      "Hasil aktual: 8 hasil prediksi: 4\n",
      "Hasil aktual: 3 hasil prediksi: 7\n",
      "Hasil aktual: 6 hasil prediksi: 7\n",
      "Hasil aktual: 7 hasil prediksi: 7\n",
      "Hasil aktual: 8 hasil prediksi: 7\n",
      "Hasil aktual: 8 hasil prediksi: 4\n",
      "Hasil aktual: 5 hasil prediksi: 1\n",
      "Hasil aktual: 4 hasil prediksi: 3\n",
      "Hasil aktual: 1 hasil prediksi: 3\n",
      "Hasil aktual: 8 hasil prediksi: 7\n",
      "Hasil aktual: 4 hasil prediksi: 3\n",
      "Hasil aktual: 4 hasil prediksi: 3\n",
      "Hasil aktual: 4 hasil prediksi: 7\n",
      "Hasil aktual: 3 hasil prediksi: 4\n",
      "Hasil aktual: 4 hasil prediksi: 3\n",
      "Hasil aktual: 6 hasil prediksi: 4\n",
      "Hasil aktual: 8 hasil prediksi: 7\n",
      "Hasil aktual: 4 hasil prediksi: 7\n",
      "Hasil aktual: 5 hasil prediksi: 7\n",
      "Hasil aktual: 7 hasil prediksi: 2\n",
      "Hasil aktual: 6 hasil prediksi: 7\n",
      "Hasil aktual: 3 hasil prediksi: 7\n",
      "Hasil aktual: 8 hasil prediksi: 7\n",
      "Hasil aktual: 8 hasil prediksi: 4\n",
      "Hasil aktual: 1 hasil prediksi: 7\n",
      "Hasil aktual: 7 hasil prediksi: 7\n",
      "Hasil aktual: 7 hasil prediksi: 7\n",
      "Hasil aktual: 3 hasil prediksi: 3\n",
      "Hasil aktual: 1 hasil prediksi: 7\n",
      "Hasil aktual: 2 hasil prediksi: 3\n",
      "Hasil aktual: 6 hasil prediksi: 7\n",
      "Hasil aktual: 2 hasil prediksi: 7\n",
      "Hasil aktual: 3 hasil prediksi: 4\n",
      "Hasil aktual: 2 hasil prediksi: 3\n",
      "Hasil aktual: 2 hasil prediksi: 3\n",
      "Hasil aktual: 6 hasil prediksi: 7\n",
      "Hasil aktual: 4 hasil prediksi: 7\n",
      "Hasil aktual: 4 hasil prediksi: 3\n",
      "Hasil aktual: 4 hasil prediksi: 4\n",
      "Hasil aktual: 3 hasil prediksi: 7\n",
      "Hasil aktual: 8 hasil prediksi: 7\n",
      "Hasil aktual: 5 hasil prediksi: 3\n",
      "Hasil aktual: 2 hasil prediksi: 3\n",
      "Hasil aktual: 8 hasil prediksi: 7\n",
      "Hasil aktual: 8 hasil prediksi: 7\n",
      "Hasil aktual: 3 hasil prediksi: 7\n",
      "Hasil aktual: 3 hasil prediksi: 7\n",
      "Hasil aktual: 1 hasil prediksi: 7\n",
      "Hasil aktual: 5 hasil prediksi: 7\n",
      "Hasil aktual: 3 hasil prediksi: 4\n",
      "Hasil aktual: 1 hasil prediksi: 7\n",
      "Hasil aktual: 8 hasil prediksi: 7\n",
      "Hasil aktual: 4 hasil prediksi: 3\n",
      "Hasil aktual: 3 hasil prediksi: 3\n",
      "Hasil aktual: 6 hasil prediksi: 7\n",
      "Hasil aktual: 1 hasil prediksi: 3\n",
      "Hasil aktual: 5 hasil prediksi: 4\n",
      "Hasil aktual: 5 hasil prediksi: 4\n",
      "Hasil aktual: 6 hasil prediksi: 3\n",
      "Hasil aktual: 5 hasil prediksi: 7\n",
      "Hasil aktual: 4 hasil prediksi: 3\n",
      "Hasil aktual: 4 hasil prediksi: 7\n",
      "Hasil aktual: 8 hasil prediksi: 7\n",
      "Hasil aktual: 1 hasil prediksi: 3\n",
      "Hasil aktual: 1 hasil prediksi: 7\n",
      "Hasil aktual: 8 hasil prediksi: 2\n",
      "Hasil aktual: 6 hasil prediksi: 7\n",
      "Hasil aktual: 2 hasil prediksi: 3\n",
      "Hasil aktual: 5 hasil prediksi: 7\n",
      "Hasil aktual: 5 hasil prediksi: 7\n",
      "Hasil aktual: 3 hasil prediksi: 7\n",
      "Hasil aktual: 7 hasil prediksi: 3\n",
      "Hasil aktual: 1 hasil prediksi: 7\n",
      "Hasil aktual: 5 hasil prediksi: 7\n",
      "Hasil aktual: 3 hasil prediksi: 7\n",
      "Hasil aktual: 6 hasil prediksi: 7\n",
      "Hasil aktual: 2 hasil prediksi: 7\n",
      "Hasil aktual: 1 hasil prediksi: 3\n",
      "Hasil aktual: 3 hasil prediksi: 1\n",
      "Hasil aktual: 8 hasil prediksi: 7\n",
      "Hasil aktual: 1 hasil prediksi: 2\n",
      "Hasil aktual: 8 hasil prediksi: 3\n",
      "Hasil aktual: 2 hasil prediksi: 3\n",
      "Hasil aktual: 7 hasil prediksi: 3\n",
      "Hasil aktual: 5 hasil prediksi: 3\n",
      "Hasil aktual: 3 hasil prediksi: 3\n",
      "Hasil aktual: 1 hasil prediksi: 7\n",
      "Hasil aktual: 6 hasil prediksi: 7\n",
      "Hasil aktual: 3 hasil prediksi: 3\n",
      "Hasil aktual: 5 hasil prediksi: 7\n",
      "Hasil aktual: 8 hasil prediksi: 6\n",
      "Hasil aktual: 4 hasil prediksi: 2\n",
      "Hasil aktual: 5 hasil prediksi: 7\n",
      "Hasil aktual: 7 hasil prediksi: 7\n",
      "Hasil aktual: 4 hasil prediksi: 7\n",
      "Hasil aktual: 8 hasil prediksi: 7\n",
      "Hasil aktual: 8 hasil prediksi: 1\n",
      "Hasil aktual: 5 hasil prediksi: 7\n",
      "Hasil aktual: 5 hasil prediksi: 7\n",
      "Hasil aktual: 7 hasil prediksi: 7\n",
      "Hasil aktual: 4 hasil prediksi: 7\n",
      "Hasil aktual: 1 hasil prediksi: 7\n",
      "Hasil aktual: 5 hasil prediksi: 4\n",
      "Hasil aktual: 8 hasil prediksi: 7\n",
      "Hasil aktual: 4 hasil prediksi: 1\n",
      "Hasil aktual: 7 hasil prediksi: 7\n",
      "Hasil aktual: 4 hasil prediksi: 4\n",
      "Hasil aktual: 6 hasil prediksi: 7\n",
      "Hasil aktual: 8 hasil prediksi: 7\n",
      "Hasil aktual: 1 hasil prediksi: 7\n",
      "Hasil aktual: 1 hasil prediksi: 4\n",
      "Hasil aktual: 4 hasil prediksi: 7\n",
      "Hasil aktual: 2 hasil prediksi: 3\n",
      "Hasil aktual: 6 hasil prediksi: 7\n",
      "Hasil aktual: 4 hasil prediksi: 3\n",
      "Hasil aktual: 3 hasil prediksi: 7\n",
      "Hasil aktual: 2 hasil prediksi: 7\n",
      "Hasil aktual: 2 hasil prediksi: 7\n",
      "Hasil aktual: 8 hasil prediksi: 2\n",
      "Hasil aktual: 6 hasil prediksi: 7\n",
      "Hasil aktual: 8 hasil prediksi: 4\n",
      "Hasil aktual: 8 hasil prediksi: 6\n",
      "Hasil aktual: 6 hasil prediksi: 7\n",
      "Hasil aktual: 4 hasil prediksi: 4\n",
      "Hasil aktual: 3 hasil prediksi: 3\n",
      "Hasil aktual: 6 hasil prediksi: 7\n",
      "Hasil aktual: 8 hasil prediksi: 7\n",
      "Hasil aktual: 6 hasil prediksi: 7\n",
      "Hasil aktual: 6 hasil prediksi: 7\n",
      "Hasil aktual: 5 hasil prediksi: 7\n",
      "Hasil aktual: 7 hasil prediksi: 4\n",
      "Hasil aktual: 4 hasil prediksi: 2\n",
      "Hasil aktual: 7 hasil prediksi: 7\n",
      "Hasil aktual: 2 hasil prediksi: 7\n",
      "Hasil aktual: 7 hasil prediksi: 7\n",
      "Hasil aktual: 6 hasil prediksi: 4\n",
      "Hasil aktual: 6 hasil prediksi: 4\n",
      "Hasil aktual: 6 hasil prediksi: 7\n",
      "Hasil aktual: 8 hasil prediksi: 7\n",
      "Hasil aktual: 1 hasil prediksi: 3\n",
      "Hasil aktual: 3 hasil prediksi: 7\n",
      "Hasil aktual: 7 hasil prediksi: 4\n",
      "Hasil aktual: 3 hasil prediksi: 3\n",
      "Hasil aktual: 1 hasil prediksi: 7\n",
      "Hasil aktual: 4 hasil prediksi: 3\n",
      "Hasil aktual: 2 hasil prediksi: 7\n",
      "Hasil aktual: 2 hasil prediksi: 1\n",
      "Hasil aktual: 7 hasil prediksi: 7\n",
      "Hasil aktual: 5 hasil prediksi: 3\n",
      "Hasil aktual: 5 hasil prediksi: 7\n",
      "Hasil aktual: 2 hasil prediksi: 4\n",
      "Hasil aktual: 4 hasil prediksi: 4\n",
      "Hasil aktual: 7 hasil prediksi: 7\n",
      "Hasil aktual: 1 hasil prediksi: 3\n",
      "Hasil aktual: 2 hasil prediksi: 3\n",
      "Hasil aktual: 2 hasil prediksi: 7\n",
      "Hasil aktual: 4 hasil prediksi: 3\n",
      "Hasil aktual: 7 hasil prediksi: 7\n",
      "Hasil aktual: 3 hasil prediksi: 7\n",
      "Hasil aktual: 7 hasil prediksi: 3\n",
      "Hasil aktual: 8 hasil prediksi: 3\n",
      "Hasil aktual: 2 hasil prediksi: 3\n",
      "Hasil aktual: 2 hasil prediksi: 4\n",
      "Hasil aktual: 7 hasil prediksi: 7\n",
      "Hasil aktual: 6 hasil prediksi: 1\n",
      "Hasil aktual: 2 hasil prediksi: 2\n",
      "Hasil aktual: 4 hasil prediksi: 3\n",
      "Hasil aktual: 4 hasil prediksi: 3\n",
      "Hasil aktual: 8 hasil prediksi: 7\n",
      "Hasil aktual: 4 hasil prediksi: 7\n",
      "Hasil aktual: 2 hasil prediksi: 7\n",
      "Hasil aktual: 7 hasil prediksi: 7\n",
      "Hasil aktual: 7 hasil prediksi: 4\n",
      "Hasil aktual: 3 hasil prediksi: 2\n",
      "Hasil aktual: 8 hasil prediksi: 4\n",
      "Hasil aktual: 8 hasil prediksi: 7\n",
      "Hasil aktual: 8 hasil prediksi: 2\n",
      "Hasil aktual: 2 hasil prediksi: 3\n",
      "Hasil aktual: 2 hasil prediksi: 2\n",
      "Hasil aktual: 1 hasil prediksi: 3\n",
      "Hasil aktual: 7 hasil prediksi: 2\n",
      "Hasil aktual: 8 hasil prediksi: 7\n",
      "Hasil aktual: 3 hasil prediksi: 3\n",
      "Hasil aktual: 8 hasil prediksi: 7\n",
      "Hasil aktual: 2 hasil prediksi: 3\n",
      "Hasil aktual: 4 hasil prediksi: 3\n",
      "Hasil aktual: 1 hasil prediksi: 3\n",
      "Hasil aktual: 6 hasil prediksi: 7\n",
      "Hasil aktual: 6 hasil prediksi: 4\n",
      "Hasil aktual: 3 hasil prediksi: 4\n",
      "Hasil aktual: 4 hasil prediksi: 3\n",
      "Hasil aktual: 6 hasil prediksi: 7\n",
      "Hasil aktual: 4 hasil prediksi: 4\n",
      "Hasil aktual: 2 hasil prediksi: 7\n",
      "Hasil aktual: 8 hasil prediksi: 4\n",
      "Hasil aktual: 1 hasil prediksi: 7\n",
      "Hasil aktual: 8 hasil prediksi: 4\n",
      "Hasil aktual: 2 hasil prediksi: 4\n",
      "Hasil aktual: 8 hasil prediksi: 7\n",
      "Hasil aktual: 8 hasil prediksi: 7\n",
      "Hasil aktual: 3 hasil prediksi: 2\n",
      "Hasil aktual: 7 hasil prediksi: 7\n",
      "Hasil aktual: 7 hasil prediksi: 4\n",
      "Hasil aktual: 6 hasil prediksi: 3\n",
      "Hasil aktual: 8 hasil prediksi: 7\n",
      "Hasil aktual: 2 hasil prediksi: 7\n",
      "Hasil aktual: 1 hasil prediksi: 7\n",
      "Hasil aktual: 1 hasil prediksi: 7\n",
      "Hasil aktual: 5 hasil prediksi: 7\n",
      "Hasil aktual: 4 hasil prediksi: 7\n",
      "Hasil aktual: 4 hasil prediksi: 4\n",
      "Hasil aktual: 3 hasil prediksi: 3\n",
      "Hasil aktual: 1 hasil prediksi: 3\n",
      "Hasil aktual: 7 hasil prediksi: 2\n",
      "Hasil aktual: 6 hasil prediksi: 7\n",
      "Hasil aktual: 6 hasil prediksi: 7\n",
      "Hasil aktual: 4 hasil prediksi: 7\n",
      "Hasil aktual: 3 hasil prediksi: 3\n",
      "Hasil aktual: 8 hasil prediksi: 7\n",
      "Hasil aktual: 1 hasil prediksi: 7\n",
      "Hasil aktual: 1 hasil prediksi: 3\n",
      "Hasil aktual: 4 hasil prediksi: 4\n",
      "Hasil aktual: 4 hasil prediksi: 7\n",
      "Hasil aktual: 6 hasil prediksi: 4\n",
      "Hasil aktual: 8 hasil prediksi: 7\n",
      "Hasil aktual: 1 hasil prediksi: 7\n",
      "Hasil aktual: 1 hasil prediksi: 2\n",
      "Hasil aktual: 6 hasil prediksi: 7\n",
      "Hasil aktual: 7 hasil prediksi: 7\n",
      "Hasil aktual: 2 hasil prediksi: 2\n",
      "Hasil aktual: 1 hasil prediksi: 2\n",
      "Hasil aktual: 3 hasil prediksi: 3\n",
      "Hasil aktual: 6 hasil prediksi: 7\n",
      "Hasil aktual: 8 hasil prediksi: 7\n",
      "Hasil aktual: 8 hasil prediksi: 4\n",
      "Hasil aktual: 1 hasil prediksi: 3\n",
      "Hasil aktual: 6 hasil prediksi: 7\n",
      "Hasil aktual: 7 hasil prediksi: 7\n",
      "Hasil aktual: 8 hasil prediksi: 7\n",
      "Hasil aktual: 5 hasil prediksi: 4\n",
      "Hasil aktual: 4 hasil prediksi: 7\n",
      "Hasil aktual: 8 hasil prediksi: 7\n",
      "Hasil aktual: 5 hasil prediksi: 4\n",
      "Hasil aktual: 4 hasil prediksi: 7\n",
      "Hasil aktual: 1 hasil prediksi: 7\n",
      "Hasil aktual: 6 hasil prediksi: 3\n",
      "Hasil aktual: 7 hasil prediksi: 7\n",
      "Hasil aktual: 8 hasil prediksi: 7\n",
      "Hasil aktual: 1 hasil prediksi: 3\n",
      "Hasil aktual: 5 hasil prediksi: 7\n",
      "Hasil aktual: 7 hasil prediksi: 3\n",
      "Hasil aktual: 1 hasil prediksi: 2\n",
      "Hasil aktual: 7 hasil prediksi: 7\n",
      "Hasil aktual: 5 hasil prediksi: 3\n",
      "Hasil aktual: 3 hasil prediksi: 7\n",
      "Hasil aktual: 8 hasil prediksi: 7\n"
     ]
    }
   ],
   "source": [
    "for i in range(len(y_actual)):\n",
    "    print(f'Hasil aktual: {y_actual[i]} hasil prediksi: {y_pred[i]}')"
   ]
  },
  {
   "cell_type": "code",
   "execution_count": 17,
   "metadata": {},
   "outputs": [
    {
     "name": "stderr",
     "output_type": "stream",
     "text": [
      "No handles with labels found to put in legend.\n"
     ]
    },
    {
     "data": {
      "image/png": "[encoded data removed]",
      "text/plain": [
       "<Figure size 432x288 with 1 Axes>"
      ]
     },
     "metadata": {
      "needs_background": "light"
     },
     "output_type": "display_data"
    }
   ],
   "source": [
    "# Visualising the Test set results\n",
    "from matplotlib.colors import ListedColormap\n",
    "X_set, y_set = X_test, y_test\n",
    "X1, X2 = np.meshgrid(np.arange(start = X_set[:, 0].min() - 1, stop = X_set[:, 0].max() + 1, step = 0.01),\n",
    "                     np.arange(start = X_set[:, 1].min() - 1, stop = X_set[:, 1].max() + 1, step = 0.01))\n",
    "plt.contourf(X1, X2, classifier.predict(np.array([X1.ravel(), X2.ravel()]).T).reshape(X1.shape),\n",
    "             alpha = 0.55, cmap = ListedColormap(('blue', 'red')))\n",
    "plt.xlim(X1.min(), X1.max())\n",
    "plt.ylim(X2.min(), X2.max())\n",
    "# for i, j in enumerate(np.unique(y_set)):\n",
    "#     plt.scatter(X_set[y_set == j, 0], X_set[y_set == j, 1],\n",
    "#                 c = ListedColormap(('blue', 'red'))(i), label = j)\n",
    "plt.title('Insulation (Test set)')\n",
    "plt.xlabel('Temperature')\n",
    "plt.ylabel('Home_Size')\n",
    "plt.legend()\n",
    "plt.show()"
   ]
  }
 ],
 "metadata": {
  "kernelspec": {
   "display_name": "Python 3",
   "language": "python",
   "name": "python3"
  },
  "language_info": {
   "codemirror_mode": {
    "name": "ipython",
    "version": 3
   },
   "file_extension": ".py",
   "mimetype": "text/x-python",
   "name": "python",
   "nbconvert_exporter": "python",
   "pygments_lexer": "ipython3",
   "version": "3.8.5"
  }
 },
 "nbformat": 4,
 "nbformat_minor": 4
}
